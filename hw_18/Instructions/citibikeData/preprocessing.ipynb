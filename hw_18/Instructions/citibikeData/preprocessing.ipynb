{
 "cells": [
  {
   "cell_type": "code",
   "execution_count": 1,
   "metadata": {},
   "outputs": [],
   "source": [
    "import pandas as pd"
   ]
  },
  {
   "cell_type": "code",
   "execution_count": 2,
   "metadata": {},
   "outputs": [],
   "source": [
    "Dec2016df = pd.read_csv(\"201612-citibike-tripdata.csv\")\n",
    "Dec2017df = pd.read_csv(\"201712-citibike-tripdata.csv\")"
   ]
  },
  {
   "cell_type": "code",
   "execution_count": 3,
   "metadata": {},
   "outputs": [],
   "source": [
    "def timeMaker_2017(df):\n",
    "    df[[\"Date\", \"Time\"]] = df[\"starttime\"].str.split(\" \", expand=True)\n",
    "def timeMaker_2016(df):\n",
    "    df[[\"Date\", \"Time\"]] = df[\"Start Time\"].str.split(\" \", expand=True)"
   ]
  },
  {
   "cell_type": "code",
   "execution_count": 4,
   "metadata": {},
   "outputs": [],
   "source": [
    "def genderCategoryAdder_capG(df):\n",
    "    listAppend = []\n",
    "    for i in df[\"Gender\"]:\n",
    "        if i == 0:\n",
    "            listAppend.append(\"Unknown\")\n",
    "        elif i == 1:\n",
    "            listAppend.append(\"Male\")\n",
    "        elif i == 2:\n",
    "            listAppend.append(\"Female\")\n",
    "        else:\n",
    "            print(\"There is an error within the data\")\n",
    "    df[\"Gender_categorical\"] = listAppend\n",
    "def genderCategoryAdder_lowerg(df):\n",
    "    listAppend = []\n",
    "    for i in df[\"gender\"]:\n",
    "        if i == 0:\n",
    "            listAppend.append(\"Unknown\")\n",
    "        elif i == 1:\n",
    "            listAppend.append(\"Male\")\n",
    "        elif i == 2:\n",
    "            listAppend.append(\"Female\")\n",
    "        else:\n",
    "            print(\"There is an error within the data\")\n",
    "    df[\"Gender_categorical\"] = listAppend"
   ]
  },
  {
   "cell_type": "code",
   "execution_count": 5,
   "metadata": {},
   "outputs": [],
   "source": [
    "def csvMaker(df, name):\n",
    "    df.to_csv(f\"output-{name}.csv\")"
   ]
  },
  {
   "cell_type": "code",
   "execution_count": 6,
   "metadata": {},
   "outputs": [],
   "source": [
    "Dec2016df.dropna(axis=0, how=\"any\", inplace=True)\n",
    "Dec2017df.dropna(axis=0, how=\"any\", inplace=True)"
   ]
  },
  {
   "cell_type": "code",
   "execution_count": 7,
   "metadata": {},
   "outputs": [],
   "source": [
    "timeMaker_2016(Dec2016df)\n",
    "timeMaker_2017(Dec2017df)"
   ]
  },
  {
   "cell_type": "code",
   "execution_count": 8,
   "metadata": {},
   "outputs": [],
   "source": [
    "genderCategoryAdder_capG(Dec2016df)\n",
    "genderCategoryAdder_lowerg(Dec2017df)"
   ]
  },
  {
   "cell_type": "code",
   "execution_count": 9,
   "metadata": {},
   "outputs": [],
   "source": [
    "cols2016 = ['Bike ID', 'Trip Duration', 'Date', 'Gender_categorical', 'User Type', 'Birth Year', 'Start Station Latitude', 'Start Station Longitude', 'End Station Latitude', 'End Station Longitude']\n",
    "cols2017 = ['bikeid', 'tripduration', 'Date', 'Gender_categorical', 'usertype', 'birth year', 'start station latitude', 'start station longitude', 'end station latitude', 'end station longitude']"
   ]
  },
  {
   "cell_type": "code",
   "execution_count": 10,
   "metadata": {},
   "outputs": [],
   "source": [
    "Dec2016df = Dec2016df[cols2016]\n",
    "Dec2017df = Dec2017df[cols2017]"
   ]
  },
  {
   "cell_type": "code",
   "execution_count": 23,
   "metadata": {},
   "outputs": [],
   "source": [
    "# Filtered out unknown genders\n",
    "filter_values = ['Unknown']\n",
    "Dec2016df = Dec2016df[~Dec2016df.Gender_categorical.isin(filter_values)]\n",
    "Dec2017df = Dec2017df[~Dec2017df.Gender_categorical.isin(filter_values)]"
   ]
  },
  {
   "cell_type": "code",
   "execution_count": 37,
   "metadata": {},
   "outputs": [],
   "source": [
    "csvMaker(Dec2016df, \"Dec2016data\")\n",
    "csvMaker(Dec2017df, \"Dec2017data\")"
   ]
  }
 ],
 "metadata": {
  "kernelspec": {
   "display_name": "Python [conda env:PythonData]",
   "language": "python",
   "name": "conda-env-PythonData-py"
  },
  "language_info": {
   "codemirror_mode": {
    "name": "ipython",
    "version": 3
   },
   "file_extension": ".py",
   "mimetype": "text/x-python",
   "name": "python",
   "nbconvert_exporter": "python",
   "pygments_lexer": "ipython3",
   "version": "3.6.5"
  }
 },
 "nbformat": 4,
 "nbformat_minor": 2
}
